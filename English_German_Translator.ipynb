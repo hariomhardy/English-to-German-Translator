{
  "nbformat": 4,
  "nbformat_minor": 0,
  "metadata": {
    "kernelspec": {
      "name": "python3",
      "display_name": "Python 3"
    },
    "colab": {
      "name": "English_German_Translator.ipynb",
      "provenance": [],
      "collapsed_sections": []
    },
    "accelerator": "GPU"
  },
  "cells": [
    {
      "cell_type": "markdown",
      "metadata": {
        "id": "vsX0L1sG1iZj"
      },
      "source": [
        "# Project\n",
        "## Neural translation model\n",
        "\n",
        "In this notebook, we will create a neural network that translates from English to German.\n",
        "\n",
        "### Let's get started!\n",
        "\n",
        "We'll start by running some imports, and loading the dataset. For this project you are free to make further imports throughout the notebook as you wish. "
      ]
    },
    {
      "cell_type": "code",
      "metadata": {
        "id": "2VyTvxPN1iZn"
      },
      "source": [
        "import tensorflow as tf\n",
        "import tensorflow_hub as hub\n",
        "import unicodedata\n",
        "import re\n",
        "from IPython.display import Image\n",
        "import numpy as np\n",
        "from sklearn.model_selection import train_test_split\n",
        "import matplotlib.pyplot as plt"
      ],
      "execution_count": null,
      "outputs": []
    },
    {
      "cell_type": "markdown",
      "metadata": {
        "id": "wuIi4lAR1iZt"
      },
      "source": [
        "For this project, we will use a language dataset from http://www.manythings.org/anki/ to build a neural translation model. This dataset consists of over 200,000 pairs of sentences in English and German. In order to make the training quicker, we will restrict to our dataset to 20,000 pairs.\n",
        "\n",
        "our goal is to develop a neural translation model from English to German, making use of a pre-trained English word embedding module."
      ]
    },
    {
      "cell_type": "code",
      "metadata": {
        "id": "Nw99tEEQ3bKL",
        "colab": {
          "base_uri": "https://localhost:8080/"
        },
        "outputId": "eaee7faf-a075-4077-b532-0d7b1734b073"
      },
      "source": [
        "# Run this cell to connect to your Drive folder\n",
        "\n",
        "from google.colab import drive\n",
        "drive.mount('/content/gdrive')"
      ],
      "execution_count": null,
      "outputs": [
        {
          "output_type": "stream",
          "text": [
            "Mounted at /content/gdrive\n"
          ],
          "name": "stdout"
        }
      ]
    },
    {
      "cell_type": "markdown",
      "metadata": {
        "id": "pi9Dq6vv3FVO"
      },
      "source": [
        "#### Import the data\n",
        "\n",
        "The dataset is available for download as a zip file at the following link:\n",
        "\n",
        "https://drive.google.com/open?id=1KczOciG7sYY7SB9UlBeRP1T9659b121Q\n"
      ]
    },
    {
      "cell_type": "code",
      "metadata": {
        "colab": {
          "base_uri": "https://localhost:8080/"
        },
        "id": "A1p_RpLGJxtx",
        "outputId": "bb43e6ee-d1fe-4c0c-80b4-218551c3b0ab"
      },
      "source": [
        "from google.colab import drive\n",
        "drive.mount('/content/drive')"
      ],
      "execution_count": null,
      "outputs": [
        {
          "output_type": "stream",
          "text": [
            "Mounted at /content/drive\n"
          ],
          "name": "stdout"
        }
      ]
    },
    {
      "cell_type": "code",
      "metadata": {
        "colab": {
          "base_uri": "https://localhost:8080/"
        },
        "id": "gKRrdawMJ5zw",
        "outputId": "0730d17f-7c3e-4251-bda9-10f3acae47a0"
      },
      "source": [
        "!wget https://drive.google.com/u/0/uc?id=1KczOciG7sYY7SB9UlBeRP1T9659b121Q&export=download"
      ],
      "execution_count": null,
      "outputs": [
        {
          "output_type": "stream",
          "text": [
            "--2021-03-05 16:12:20--  https://drive.google.com/u/0/uc?id=1KczOciG7sYY7SB9UlBeRP1T9659b121Q\n",
            "Resolving drive.google.com (drive.google.com)... 74.125.142.113, 74.125.142.100, 74.125.142.102, ...\n",
            "Connecting to drive.google.com (drive.google.com)|74.125.142.113|:443... connected.\n",
            "HTTP request sent, awaiting response... 302 Moved Temporarily\n",
            "Location: https://doc-10-64-docs.googleusercontent.com/docs/securesc/ha0ro937gcuc7l7deffksulhg5h7mbp1/veuelc2l1944mjk6iqeqr53bsmjqoj15/1614960675000/05966119998589466355/*/1KczOciG7sYY7SB9UlBeRP1T9659b121Q [following]\n",
            "Warning: wildcards not supported in HTTP.\n",
            "--2021-03-05 16:12:22--  https://doc-10-64-docs.googleusercontent.com/docs/securesc/ha0ro937gcuc7l7deffksulhg5h7mbp1/veuelc2l1944mjk6iqeqr53bsmjqoj15/1614960675000/05966119998589466355/*/1KczOciG7sYY7SB9UlBeRP1T9659b121Q\n",
            "Resolving doc-10-64-docs.googleusercontent.com (doc-10-64-docs.googleusercontent.com)... 74.125.20.132, 2607:f8b0:400e:c07::84\n",
            "Connecting to doc-10-64-docs.googleusercontent.com (doc-10-64-docs.googleusercontent.com)|74.125.20.132|:443... connected.\n",
            "HTTP request sent, awaiting response... 200 OK\n",
            "Length: unspecified [text/plain]\n",
            "Saving to: ‘uc?id=1KczOciG7sYY7SB9UlBeRP1T9659b121Q’\n",
            "\n",
            "uc?id=1KczOciG7sYY7     [  <=>               ]  29.93M  66.7MB/s    in 0.4s    \n",
            "\n",
            "2021-03-05 16:12:22 (66.7 MB/s) - ‘uc?id=1KczOciG7sYY7SB9UlBeRP1T9659b121Q’ saved [31382382]\n",
            "\n"
          ],
          "name": "stdout"
        }
      ]
    },
    {
      "cell_type": "code",
      "metadata": {
        "id": "o8PetPpw1iZu"
      },
      "source": [
        "# Run this cell to load the dataset\n",
        "\n",
        "NUM_EXAMPLES = 20000\n",
        "data_examples = []\n",
        "with open(\"/content/deu.txt\", 'r', encoding='utf8') as f:\n",
        "    for line in f.readlines():\n",
        "        if len(data_examples) < NUM_EXAMPLES:\n",
        "            data_examples.append(line)\n",
        "        else:\n",
        "            break"
      ],
      "execution_count": null,
      "outputs": []
    },
    {
      "cell_type": "code",
      "metadata": {
        "id": "JumLjJ631iZy"
      },
      "source": [
        "# These functions preprocess English and German sentences\n",
        "\n",
        "def unicode_to_ascii(s):\n",
        "    return ''.join(c for c in unicodedata.normalize('NFD', s) if unicodedata.category(c) != 'Mn')\n",
        "\n",
        "def preprocess_sentence(sentence):\n",
        "    sentence = sentence.lower().strip()\n",
        "    sentence = re.sub(r\"ü\", 'ue', sentence)\n",
        "    sentence = re.sub(r\"ä\", 'ae', sentence)\n",
        "    sentence = re.sub(r\"ö\", 'oe', sentence)\n",
        "    sentence = re.sub(r'ß', 'ss', sentence)\n",
        "    \n",
        "    sentence = unicode_to_ascii(sentence)\n",
        "    sentence = re.sub(r\"([?.!,])\", r\" \\1 \", sentence)\n",
        "    sentence = re.sub(r\"[^a-z?.!,']+\", \" \", sentence)\n",
        "    sentence = re.sub(r'[\" \"]+', \" \", sentence)\n",
        "    \n",
        "    return sentence.strip()"
      ],
      "execution_count": null,
      "outputs": []
    },
    {
      "cell_type": "markdown",
      "metadata": {
        "id": "XFJap-TW1iZ2"
      },
      "source": [
        "#### The custom translation model\n",
        "The following is a schematic of the custom translation model architecture we will develop in this project."
      ]
    },
    {
      "cell_type": "code",
      "metadata": {
        "id": "gBF1K2JN4RFJ",
        "colab": {
          "base_uri": "https://localhost:8080/",
          "height": 647
        },
        "outputId": "31be07bb-bf9b-4f28-ba7e-690b7813169e"
      },
      "source": [
        "# Run this cell to download and view a schematic diagram for the neural translation model\n",
        "\n",
        "!wget -q -O neural_translation_model.png --no-check-certificate \"https://docs.google.com/uc?export=download&id=1XsS1VlXoaEo-RbYNilJ9jcscNZvsSPmd\"\n",
        "Image(\"neural_translation_model.png\")"
      ],
      "execution_count": null,
      "outputs": [
        {
          "output_type": "execute_result",
          "data": {
            "image/png": "[encoded data removed]",
            "text/plain": [
              "<IPython.core.display.Image object>"
            ]
          },
          "metadata": {
            "tags": []
          },
          "execution_count": 2
        }
      ]
    },
    {
      "cell_type": "markdown",
      "metadata": {
        "id": "0fP7P-yK4RS7"
      },
      "source": [
        "The custom model consists of an encoder RNN and a decoder RNN. The encoder takes words of an English sentence as input, and uses a pre-trained word embedding to embed the words into a 128-dimensional space. To indicate the end of the input sentence, a special end token (in the same 128-dimensional space) is passed in as an input. This token is a TensorFlow Variable that is learned in the training phase (unlike the pre-trained word embedding, which is frozen).\n",
        "\n",
        "The decoder RNN takes the internal state of the encoder network as its initial state. A start token is passed in as the first input, which is embedded using a learned German word embedding. The decoder RNN then makes a prediction for the next German word, which during inference is then passed in as the following input, and this process is repeated until the special `<end>` token is emitted from the decoder."
      ]
    },
    {
      "cell_type": "markdown",
      "metadata": {
        "id": "z70nu6_01iZ3"
      },
      "source": [
        "## 1. Text preprocessing\n"
      ]
    },
    {
      "cell_type": "code",
      "metadata": {
        "scrolled": true,
        "id": "9G20C4bk1iZ4"
      },
      "source": [
        "english_sentences = []\n",
        "german_sentences = []\n",
        "\n",
        "for i in range(len(data_examples)):\n",
        "  english_sentences.append((preprocess_sentence(re.split('\\t', data_examples[i])[0])))\n",
        "  german_sentences.append('<start> ' + (preprocess_sentence(re.split('\\t', data_examples[i])[1])) + ' <end>')"
      ],
      "execution_count": null,
      "outputs": []
    },
    {
      "cell_type": "code",
      "metadata": {
        "id": "Sxwl-1rB1iZ8",
        "colab": {
          "base_uri": "https://localhost:8080/"
        },
        "outputId": "acf428b6-22f2-4d93-c868-9cae9bc6f609"
      },
      "source": [
        "import json\n",
        "\n",
        "tokenizer = tf.keras.preprocessing.text.Tokenizer(filters='',\n",
        "                                                  num_words=None)\n",
        "\n",
        "tokenizer.fit_on_texts(german_sentences)\n",
        "tokenizer_config = tokenizer.get_config()\n",
        "\n",
        "index_word = json.loads(tokenizer_config['index_word'])\n",
        "word_index = json.loads(tokenizer_config['word_index'])\n",
        "\n",
        "print(word_index.get('.'))\n",
        "print(word_index.get('!'))"
      ],
      "execution_count": null,
      "outputs": [
        {
          "output_type": "stream",
          "text": [
            "3\n",
            "9\n"
          ],
          "name": "stdout"
        }
      ]
    },
    {
      "cell_type": "code",
      "metadata": {
        "id": "WnIdqZFk1iaA"
      },
      "source": [
        "german_sentences_seq = tokenizer.texts_to_sequences(german_sentences)"
      ],
      "execution_count": null,
      "outputs": []
    },
    {
      "cell_type": "code",
      "metadata": {
        "id": "5UlnBdIK1iaE",
        "colab": {
          "base_uri": "https://localhost:8080/"
        },
        "outputId": "d1a03556-f785-41cd-d9ed-ea8ff8a90f43"
      },
      "source": [
        "import numpy as np\n",
        "\n",
        "num_samples = 5\n",
        "\n",
        "inx = np.random.choice(len(english_sentences), num_samples, replace=False)\n",
        "print(inx)\n",
        "\n",
        "for i, (chunk1, chunk2, chunk3) in enumerate(zip(np.array(english_sentences)[inx], np.array(german_sentences)[inx], np.array(german_sentences_seq)[inx])):\n",
        "  print(i, chunk1)\n",
        "  print(i, chunk2, chunk3)"
      ],
      "execution_count": null,
      "outputs": [
        {
          "output_type": "stream",
          "text": [
            "[11264 16803  3852  1088  5549]\n",
            "0 keep the change .\n",
            "0 <start> behalte das wechselgeld . <end> [1, 1792, 11, 2148, 3, 2]\n",
            "1 tom kept sighing .\n",
            "1 <start> tom seufzte vor sich hin . <end> [1, 5, 1495, 164, 34, 205, 3, 2]\n",
            "2 that was tom .\n",
            "2 <start> das war tom . <end> [1, 11, 24, 5, 3, 2]\n",
            "3 he is busy .\n",
            "3 <start> er ist beschaeftigt . <end> [1, 14, 6, 98, 3, 2]\n",
            "4 my dog is big .\n",
            "4 <start> mein hund ist gross . <end> [1, 50, 107, 6, 167, 3, 2]\n"
          ],
          "name": "stdout"
        },
        {
          "output_type": "stream",
          "text": [
            "/usr/local/lib/python3.7/dist-packages/ipykernel_launcher.py:8: VisibleDeprecationWarning: Creating an ndarray from ragged nested sequences (which is a list-or-tuple of lists-or-tuples-or ndarrays with different lengths or shapes) is deprecated. If you meant to do this, you must specify 'dtype=object' when creating the ndarray\n",
            "  \n"
          ],
          "name": "stderr"
        }
      ]
    },
    {
      "cell_type": "code",
      "metadata": {
        "id": "ZGTaqt1t1iaI"
      },
      "source": [
        "german_sentences_seq_padded = tf.keras.preprocessing.sequence.pad_sequences(german_sentences_seq, \n",
        "                                                                            maxlen=None,\n",
        "                                                                            padding='post',\n",
        "                                                                            value=0)"
      ],
      "execution_count": null,
      "outputs": []
    },
    {
      "cell_type": "code",
      "metadata": {
        "colab": {
          "base_uri": "https://localhost:8080/"
        },
        "id": "_816loEAJ18b",
        "outputId": "551c1e18-d30e-4139-dea9-25ff8a79dc98"
      },
      "source": [
        "german_sentences_seq_padded.shape"
      ],
      "execution_count": null,
      "outputs": [
        {
          "output_type": "execute_result",
          "data": {
            "text/plain": [
              "(20000, 14)"
            ]
          },
          "metadata": {
            "tags": []
          },
          "execution_count": 18
        }
      ]
    },
    {
      "cell_type": "markdown",
      "metadata": {
        "id": "foL7Ihs21iaP"
      },
      "source": [
        "## 2. Prepare the data"
      ]
    },
    {
      "cell_type": "markdown",
      "metadata": {
        "id": "-9rCEE4z1iaQ"
      },
      "source": [
        "#### Load the embedding layer\n",
        "As part of the dataset preproceessing for this project, we will use a pre-trained English word embedding module from TensorFlow Hub. The URL for the module is https://tfhub.dev/google/tf2-preview/nnlm-en-dim128-with-normalization/1.\n",
        "\n",
        "This embedding takes a batch of text tokens in a 1-D tensor of strings as input. It then embeds the separate tokens into a 128-dimensional space. \n",
        "\n",
        "The code to load and test the embedding layer is provided for you below.\n",
        "\n",
        "**NB:** this model can also be used as a sentence embedding module. The module will process each token by removing punctuation and splitting on spaces. It then averages the word embeddings over a sentence to give a single embedding vector. However, we will use it only as a word embedding module, and will pass each word in the input sentence as a separate token."
      ]
    },
    {
      "cell_type": "code",
      "metadata": {
        "id": "ywZgobCh1iaR"
      },
      "source": [
        "# Load embedding module from Tensorflow Hub\n",
        "\n",
        "embedding_layer = hub.KerasLayer(\"https://tfhub.dev/google/tf2-preview/nnlm-en-dim128/1\", \n",
        "                                 output_shape=[128], input_shape=[], dtype=tf.string)"
      ],
      "execution_count": null,
      "outputs": []
    },
    {
      "cell_type": "code",
      "metadata": {
        "id": "TiY8QEDp1iaV",
        "colab": {
          "base_uri": "https://localhost:8080/"
        },
        "outputId": "e5fe3482-003a-453f-b30c-79f8c47329f4"
      },
      "source": [
        "# Test the layer\n",
        "\n",
        "embedding_layer(tf.constant([\"these\", \"aren't\", \"the\", \"droids\", \"you're\", \"looking\", \"for\"])).shape"
      ],
      "execution_count": null,
      "outputs": [
        {
          "output_type": "execute_result",
          "data": {
            "text/plain": [
              "TensorShape([7, 128])"
            ]
          },
          "metadata": {
            "tags": []
          },
          "execution_count": 20
        }
      ]
    },
    {
      "cell_type": "markdown",
      "metadata": {
        "id": "KjuzXc-z1iaY"
      },
      "source": [
        "We should now prepare the training and validation Datasets.\n",
        "\n",
        "* Create a random training and validation set split of the data, reserving e.g. 20% of the data for validation (NB: each English dataset example is a single sentence string, and each German dataset example is a sequence of padded integer tokens).\n",
        "* Load the training and validation sets into a tf.data.Dataset object, passing in a tuple of English and German data for both training and validation sets.\n",
        "* Create a function to map over the datasets that splits each English sentence at spaces. Apply this function to both Dataset objects using the map method. _Hint: look at the tf.strings.split function._\n",
        "* Create a function to map over the datasets that embeds each sequence of English words using the loaded embedding layer/model. Apply this function to both Dataset objects using the map method.\n",
        "* Create a function to filter out dataset examples where the English sentence is greater than or equal to than 13 (embedded) tokens in length. Apply this function to both Dataset objects using the filter method.\n",
        "* Create a function to map over the datasets that pads each English sequence of embeddings with some distinct padding value before the sequence, so that each sequence is length 13. Apply this function to both Dataset objects using the map method.\n",
        "* Batch both training and validation Datasets with a batch size of 16.\n",
        "* Print the `element_spec` property for the training and validation Datasets. \n",
        "* Using the Dataset `.take(1)` method, print the shape of the English data example from the training Dataset.\n",
        "* Using the Dataset `.take(1)` method, print the German data example Tensor from the validation Dataset."
      ]
    },
    {
      "cell_type": "code",
      "metadata": {
        "id": "Q-BUJOl_1iaZ"
      },
      "source": [
        "from sklearn.model_selection import train_test_split\n",
        "\n",
        "x_english_train, x_english_test = train_test_split(english_sentences, test_size = 0.2, random_state = 0)\n",
        "x_german_tokenised_train, x_german_tokenised_test = train_test_split(german_sentences_seq_padded, test_size = 0.2, random_state = 0)"
      ],
      "execution_count": null,
      "outputs": []
    },
    {
      "cell_type": "code",
      "metadata": {
        "id": "4w6rM8Bl1iad",
        "colab": {
          "base_uri": "https://localhost:8080/"
        },
        "outputId": "6d9eb0a9-35d4-487d-88e7-bd602872bfbe"
      },
      "source": [
        "x_english_train = np.array(x_english_train)\n",
        "x_english_test = np.array(x_english_test)\n",
        "\n",
        "x_german_tokenised_train = np.array(x_german_tokenised_train)\n",
        "x_german_tokenised_test = np.array(x_german_tokenised_test)\n",
        "\n",
        "training_dataset = tf.data.Dataset.from_tensor_slices((x_english_train, x_german_tokenised_train))\n",
        "validation_dataset = tf.data.Dataset.from_tensor_slices((x_english_test, x_german_tokenised_test))\n",
        "\n",
        "print(training_dataset.element_spec)\n",
        "print(validation_dataset.element_spec)"
      ],
      "execution_count": null,
      "outputs": [
        {
          "output_type": "stream",
          "text": [
            "(TensorSpec(shape=(), dtype=tf.string, name=None), TensorSpec(shape=(14,), dtype=tf.int32, name=None))\n",
            "(TensorSpec(shape=(), dtype=tf.string, name=None), TensorSpec(shape=(14,), dtype=tf.int32, name=None))\n"
          ],
          "name": "stdout"
        }
      ]
    },
    {
      "cell_type": "code",
      "metadata": {
        "id": "D7bn3mRs1iaj"
      },
      "source": [
        "def map_split_func(x,y):\n",
        "  inp = []\n",
        "\n",
        "  inp.append(tf.strings.split(x,' '))\n",
        "  inp.append(y)\n",
        "\n",
        "  return inp[0], inp[1]\n",
        "  \n",
        "training_dataset = training_dataset.map(map_split_func)\n",
        "validation_dataset = validation_dataset.map(map_split_func)"
      ],
      "execution_count": null,
      "outputs": []
    },
    {
      "cell_type": "code",
      "metadata": {
        "id": "q0Fdso381ian",
        "colab": {
          "base_uri": "https://localhost:8080/"
        },
        "outputId": "9265d8fe-bd54-4e2d-bdb9-ad1bc8cdbcb2"
      },
      "source": [
        "def map_embeddings_func(x,y):\n",
        "  inp = []\n",
        "  inp.append(embedding_layer(x))\n",
        "  inp.append(y)\n",
        "  return inp[0], inp[1]\n",
        "\n",
        "training_dataset = training_dataset.map(map_embeddings_func)\n",
        "validation_dataset = validation_dataset.map(map_embeddings_func)\n",
        "print(training_dataset.element_spec)\n",
        "print(validation_dataset.element_spec)"
      ],
      "execution_count": null,
      "outputs": [
        {
          "output_type": "stream",
          "text": [
            "(TensorSpec(shape=(None, 128), dtype=tf.float32, name=None), TensorSpec(shape=(14,), dtype=tf.int32, name=None))\n",
            "(TensorSpec(shape=(None, 128), dtype=tf.float32, name=None), TensorSpec(shape=(14,), dtype=tf.int32, name=None))\n"
          ],
          "name": "stdout"
        }
      ]
    },
    {
      "cell_type": "code",
      "metadata": {
        "id": "bGqlxuqZ1ias"
      },
      "source": [
        "training_dataset = training_dataset.filter(lambda x, y: False if ((tf.shape(x)[0])>13) else True)\n",
        "validation_dataset = validation_dataset.filter(lambda x, y: False if ((tf.shape(x)[0])>13) else True)"
      ],
      "execution_count": null,
      "outputs": []
    },
    {
      "cell_type": "code",
      "metadata": {
        "id": "MdqSXEoX1iav",
        "colab": {
          "base_uri": "https://localhost:8080/"
        },
        "outputId": "f1d1239f-8f28-4453-bf3b-1a41c31530e0"
      },
      "source": [
        "def map_pad_embeddings_func(x,y):\n",
        "  inp = []\n",
        "  pad = tf.pad(x,paddings=[[13-tf.shape(x)[0],0],[0,0]], mode='CONSTANT', constant_values=1.0, name=None)\n",
        "  inp.append(pad)\n",
        "  inp.append(y)\n",
        "  return inp[0], inp[1]\n",
        "\n",
        "\n",
        "training_dataset = training_dataset.map(map_pad_embeddings_func)\n",
        "validation_dataset = validation_dataset.map(map_pad_embeddings_func)\n",
        "print(training_dataset.element_spec)\n",
        "print(validation_dataset.element_spec)"
      ],
      "execution_count": null,
      "outputs": [
        {
          "output_type": "stream",
          "text": [
            "(TensorSpec(shape=(None, 128), dtype=tf.float32, name=None), TensorSpec(shape=(14,), dtype=tf.int32, name=None))\n",
            "(TensorSpec(shape=(None, 128), dtype=tf.float32, name=None), TensorSpec(shape=(14,), dtype=tf.int32, name=None))\n"
          ],
          "name": "stdout"
        }
      ]
    },
    {
      "cell_type": "code",
      "metadata": {
        "id": "cBpQ2WNsj8EN"
      },
      "source": [
        "# Batching\n",
        "training_dataset = training_dataset.batch(16)\n",
        "validation_dataset = validation_dataset.batch(16)"
      ],
      "execution_count": null,
      "outputs": []
    },
    {
      "cell_type": "markdown",
      "metadata": {
        "id": "isIYhjq01iay"
      },
      "source": [
        "## 3. Create the custom layer\n",
        "We will now create a custom layer to add the learned end token embedding to the encoder model:"
      ]
    },
    {
      "cell_type": "code",
      "metadata": {
        "id": "e22f1Xyh6xvE",
        "colab": {
          "base_uri": "https://localhost:8080/",
          "height": 423
        },
        "outputId": "5aef8f6a-5bb4-47ed-d953-7836160ecf28"
      },
      "source": [
        "# Run this cell to download and view a schematic diagram for the encoder model\n",
        "\n",
        "!wget -q -O neural_translation_model.png --no-check-certificate \"https://docs.google.com/uc?export=download&id=1JrtNOzUJDaOWrK4C-xv-4wUuZaI12sQI\"\n",
        "Image(\"neural_translation_model.png\")"
      ],
      "execution_count": null,
      "outputs": [
        {
          "output_type": "execute_result",
          "data": {
            "image/png": "[encoded data removed]",
            "text/plain": [
              "<IPython.core.display.Image object>"
            ]
          },
          "metadata": {
            "tags": []
          },
          "execution_count": 28
        }
      ]
    },
    {
      "cell_type": "markdown",
      "metadata": {
        "id": "M6gLIHG81iaz"
      },
      "source": [
        "We should now build the custom layer.\n",
        "* Using layer subclassing, create a custom layer that takes a batch of English data examples from one of the Datasets, and adds a learned embedded ‘end’ token to the end of each sequence. \n",
        "* This layer should create a TensorFlow Variable (that will be learned during training) that is 128-dimensional (the size of the embedding space).\n"
      ]
    },
    {
      "cell_type": "code",
      "metadata": {
        "id": "yg9hjZz11ia0"
      },
      "source": [
        "class MyLayer(tf.keras.layers.Layer):\n",
        "  def __init__(self, **kwargs):\n",
        "    super(MyLayer, self).__init__(**kwargs)\n",
        "    self.embedding = tf.Variable(initial_value = tf.random.normal(shape=(128,)), trainable=True)\n",
        "  \n",
        "  def call(self, input):\n",
        "    num_of_samples = tf.shape(input)[0]\n",
        "    embedding_shape = tf.shape(self.embedding)[0]\n",
        "    output = tf.tile(input=tf.reshape(self.embedding, [1, 1, embedding_shape]), multiples=[num_of_samples, 1, 1])\n",
        "    return tf.keras.layers.concatenate([input, output], axis=1)"
      ],
      "execution_count": null,
      "outputs": []
    },
    {
      "cell_type": "code",
      "metadata": {
        "id": "4PwI32O11ia3"
      },
      "source": [
        "mylayer = MyLayer()"
      ],
      "execution_count": null,
      "outputs": []
    },
    {
      "cell_type": "markdown",
      "metadata": {
        "id": "OAd3i4_y1ia-"
      },
      "source": [
        "## 4. Build the encoder network\n",
        "The encoder network follows the schematic diagram above. You should now build the RNN encoder model.\n",
        "* Using the functional API, build the encoder network according to the following spec:\n",
        "    * The model will take a batch of sequences of embedded English words as input, as given by the Dataset objects.\n",
        "    * The next layer in the encoder will be the custom layer you created previously, to add a learned end token embedding to the end of the English sequence.\n",
        "    * This is followed by a Masking layer, with the `mask_value` set to the distinct padding value you used when you padded the English sequences with the Dataset preprocessing above.\n",
        "    * The final layer is an LSTM layer with 512 units, which also returns the hidden and cell states.\n",
        "    * The encoder is a multi-output model. There should be two output Tensors of this model: the hidden state and cell states of the LSTM layer. The output of the LSTM layer is unused.\n"
      ]
    },
    {
      "cell_type": "code",
      "metadata": {
        "id": "6R2LqbfV1ia_"
      },
      "source": [
        "def MyEncModel(input_shape):\n",
        "  input = tf.keras.layers.Input(shape=input_shape)\n",
        "  h = MyLayer()(input)\n",
        "  h = tf.keras.layers.Masking(mask_value=0)(h)\n",
        "  output, hidden_state, cell_state = tf.keras.layers.LSTM(512, return_state=True)(h)\n",
        "  model = tf.keras.Model(input, [hidden_state, cell_state])\n",
        "  return model"
      ],
      "execution_count": null,
      "outputs": []
    },
    {
      "cell_type": "code",
      "metadata": {
        "id": "s5sv5vPvLmIC"
      },
      "source": [
        "seq_len = 13\n",
        "embedding_len = 128\n",
        "enc_model = MyEncModel((seq_len, embedding_len))"
      ],
      "execution_count": null,
      "outputs": []
    },
    {
      "cell_type": "code",
      "metadata": {
        "id": "e5XW6NxL1ibC",
        "colab": {
          "base_uri": "https://localhost:8080/"
        },
        "outputId": "a280b8da-e4d0-4735-c76c-22918a3d9d93"
      },
      "source": [
        "eng_batch = next(iter(training_dataset.take(1)))[0]\n",
        "hidden_states, cell_states = enc_model(eng_batch)\n",
        "print(f\"Shape of Hidden States: {hidden_states.shape}.\\nShape of cell states: {cell_states.shape}\")"
      ],
      "execution_count": null,
      "outputs": [
        {
          "output_type": "stream",
          "text": [
            "Shape of Hidden States: (16, 512).\n",
            "Shape of cell states: (16, 512)\n"
          ],
          "name": "stdout"
        }
      ]
    },
    {
      "cell_type": "code",
      "metadata": {
        "id": "jEk9ikVh1ibL",
        "colab": {
          "base_uri": "https://localhost:8080/"
        },
        "outputId": "99ac1e1c-7a81-4dd2-bd7d-bdf72e39fe18"
      },
      "source": [
        "enc_model.summary()"
      ],
      "execution_count": null,
      "outputs": [
        {
          "output_type": "stream",
          "text": [
            "Model: \"model\"\n",
            "_________________________________________________________________\n",
            "Layer (type)                 Output Shape              Param #   \n",
            "=================================================================\n",
            "input_1 (InputLayer)         [(None, 13, 128)]         0         \n",
            "_________________________________________________________________\n",
            "my_layer_1 (MyLayer)         (None, 14, 128)           128       \n",
            "_________________________________________________________________\n",
            "masking (Masking)            (None, 14, 128)           0         \n",
            "_________________________________________________________________\n",
            "lstm (LSTM)                  [(None, 512), (None, 512) 1312768   \n",
            "=================================================================\n",
            "Total params: 1,312,896\n",
            "Trainable params: 1,312,896\n",
            "Non-trainable params: 0\n",
            "_________________________________________________________________\n"
          ],
          "name": "stdout"
        }
      ]
    },
    {
      "cell_type": "markdown",
      "metadata": {
        "id": "KvkzpCeZ1ibR"
      },
      "source": [
        "## 5. Build the decoder network\n",
        "The decoder network follows the schematic diagram below. "
      ]
    },
    {
      "cell_type": "code",
      "metadata": {
        "id": "yOjEb7cH7Y4S",
        "colab": {
          "base_uri": "https://localhost:8080/",
          "height": 501
        },
        "outputId": "8fab5d52-bed8-493b-bbfa-4ec6d638ec90"
      },
      "source": [
        "# Run this cell to download and view a schematic diagram for the decoder model\n",
        "\n",
        "!wget -q -O neural_translation_model.png --no-check-certificate \"https://docs.google.com/uc?export=download&id=1DTeaXD8tA8RjkpVrB2mr9csSBOY4LQiW\"\n",
        "Image(\"neural_translation_model.png\")"
      ],
      "execution_count": null,
      "outputs": [
        {
          "output_type": "execute_result",
          "data": {
            "image/png": "[encoded data removed]",
            "text/plain": [
              "<IPython.core.display.Image object>"
            ]
          },
          "metadata": {
            "tags": []
          },
          "execution_count": 35
        }
      ]
    },
    {
      "cell_type": "markdown",
      "metadata": {
        "id": "VPBK8WGL1ibS"
      },
      "source": [
        "We should now build the RNN decoder model.\n",
        "  * An Embedding layer with vocabulary size set to the number of unique German tokens, embedding dimension 128, and set to mask zero values in the input.\n",
        "  * An LSTM layer with 512 units, that returns its hidden and cell states, and also returns sequences.\n",
        "  * A Dense layer with number of units equal to the number of unique German tokens, and no activation function.\n"
      ]
    },
    {
      "cell_type": "code",
      "metadata": {
        "id": "l50qhnXD1ibT"
      },
      "source": [
        "class MyDecModel(tf.keras.Model):\n",
        "\n",
        "  def __init__(self, **kwargs):\n",
        "    super(MyDecModel, self).__init__(**kwargs)\n",
        "    input_dim = len(tokenizer.word_index)+1\n",
        "    self.embedding = tf.keras.layers.Embedding(input_dim=input_dim, output_dim=128, mask_zero=True)\n",
        "    self.lstm = tf.keras.layers.LSTM(512, return_sequences=True, return_state=True)\n",
        "    self.dense = tf.keras.layers.Dense(len(tokenizer.word_index)+1)\n",
        "\n",
        "  def call(self, input, hidden_state=None, cell_state=None):\n",
        "    x = self.embedding(input)\n",
        "    x, hidden, cell = self.lstm(x, initial_state=[hidden_state, cell_state])\n",
        "    x = self.dense(x)\n",
        "    return x, hidden, cell"
      ],
      "execution_count": null,
      "outputs": []
    },
    {
      "cell_type": "code",
      "metadata": {
        "id": "zoxcX-PBMcNx"
      },
      "source": [
        "dec_model = MyDecModel()"
      ],
      "execution_count": null,
      "outputs": []
    },
    {
      "cell_type": "code",
      "metadata": {
        "id": "vG5CRIXV1ibi",
        "colab": {
          "base_uri": "https://localhost:8080/"
        },
        "outputId": "63c8567c-60c1-4ecd-e03e-fe34df8b621c"
      },
      "source": [
        "sample_en, sample_de = next(iter(training_dataset.take(1)))\n",
        "h, c = enc_model(sample_en)\n",
        "out, hout, cout = dec_model(sample_de, h, c)\n",
        "print(f\"Output shape: {out.shape}\\nHidden state shape: {hout.shape}\\nCell state shape: {cout.shape}\\n\")"
      ],
      "execution_count": null,
      "outputs": [
        {
          "output_type": "stream",
          "text": [
            "Output shape: (16, 14, 5744)\n",
            "Hidden state shape: (16, 512)\n",
            "Cell state shape: (16, 512)\n",
            "\n"
          ],
          "name": "stdout"
        }
      ]
    },
    {
      "cell_type": "code",
      "metadata": {
        "colab": {
          "base_uri": "https://localhost:8080/"
        },
        "id": "PlW_0Kx2Mffy",
        "outputId": "f96e6392-0030-4207-ebda-f5c6a75101d9"
      },
      "source": [
        "dec_model.summary()"
      ],
      "execution_count": null,
      "outputs": [
        {
          "output_type": "stream",
          "text": [
            "Model: \"my_dec_model\"\n",
            "_________________________________________________________________\n",
            "Layer (type)                 Output Shape              Param #   \n",
            "=================================================================\n",
            "embedding (Embedding)        multiple                  735232    \n",
            "_________________________________________________________________\n",
            "lstm_1 (LSTM)                multiple                  1312768   \n",
            "_________________________________________________________________\n",
            "dense (Dense)                multiple                  2946672   \n",
            "=================================================================\n",
            "Total params: 4,994,672\n",
            "Trainable params: 4,994,672\n",
            "Non-trainable params: 0\n",
            "_________________________________________________________________\n"
          ],
          "name": "stdout"
        }
      ]
    },
    {
      "cell_type": "markdown",
      "metadata": {
        "id": "pST9XGJ81ibo"
      },
      "source": [
        "## 6. Make a custom training loop\n",
        "We should now write a custom training loop to train your custom neural translation model.\n",
        "* Function that takes a Tensor batch of German data (as extracted from the training Dataset), and returns a tuple containing German inputs and outputs for the decoder model (refer to schematic diagram above).\n",
        "* Function that computes the forward and backward pass for your translation model. This function should take an English input, German input and German output as arguments, and should do the following:\n",
        "    * Pass the English input into the encoder, to get the hidden and cell states of the encoder LSTM.\n",
        "    * These hidden and cell states are then passed into the decoder, along with the German inputs, which returns a sequence of outputs (the hidden and cell state outputs of the decoder LSTM are unused in this function).\n",
        "    * The loss should then be computed between the decoder outputs and the German output function argument.\n",
        "    * The function returns the loss and gradients with respect to the encoder and decoder’s trainable variables.\n",
        "    * Decorate the function with `@tf.function`\n",
        "* Define and run a custom training loop for a number of epochs that does the following:\n",
        "    * Iterates through the training dataset, and creates decoder inputs and outputs from the German sequences.\n",
        "    * Updates the parameters of the translation model using the gradients of the function above and an optimizer object.\n",
        "    * Every epoch, compute the validation loss on a number of batches from the validation and save the epoch training and validation losses.\n",
        "* Plot the learning curves for loss vs epoch for both training and validation sets."
      ]
    },
    {
      "cell_type": "code",
      "metadata": {
        "id": "Jvu4J4-u1ibu"
      },
      "source": [
        "lf = tf.keras.losses.SparseCategoricalCrossentropy(from_logits=True)\n",
        "opt = tf.keras.optimizers.Adam()"
      ],
      "execution_count": null,
      "outputs": []
    },
    {
      "cell_type": "code",
      "metadata": {
        "id": "OI47bA7moC6e"
      },
      "source": [
        "@tf.function\n",
        "def loss_opt_fun(en_in, de_in, de_out, loss_f):\n",
        "  with tf.GradientTape() as g:\n",
        "    enc_hs, enc_cs = enc_model(en_in)\n",
        "    dec_out, dec_hs, dec_cs = dec_model(de_in, enc_hs, enc_cs)\n",
        "    loss = tf.math.reduce_mean(loss_f(de_out, dec_out))\n",
        "    trainables = enc_model.trainable_variables + dec_model.trainable_variables\n",
        "    grads = g.gradient(loss, trainables)\n",
        "    return loss, grads"
      ],
      "execution_count": null,
      "outputs": []
    },
    {
      "cell_type": "code",
      "metadata": {
        "id": "Vl5H06811ibx"
      },
      "source": [
        "loss_train = []\n",
        "loss_val = []\n",
        "\n",
        "for epoch in range(10):\n",
        "  loss_batch = []\n",
        "\n",
        "  for en, de in training_dataset:\n",
        "    decoder_inputs, decoder_outputs = de[:, :-1], de[:, 1:]\n",
        "    loss, grads = loss_opt_fun(en, decoder_inputs, decoder_outputs, lf)\n",
        "    opt.apply_gradients(zip(grads, enc_model.trainable_variables + dec_model.trainable_variables))\n",
        "    loss_batch += [loss]\n",
        "\n",
        "  loss_train.append(np.mean(loss_batch))\n",
        "  print(f\"Epoch {epoch};\\t\", end=\"\")\n",
        "\n",
        "  loss_batch = []\n",
        "\n",
        "  for en, de in validation_dataset:\n",
        "    (decoder_inputs, decoder_outputs) = de[:, :-1], de[:, 1:]\n",
        "    loss, grads = loss_opt_fun(en, decoder_inputs, decoder_outputs, lf)\n",
        "    loss_batch += [loss]\n",
        "\n",
        "  loss_val.append(np.mean(loss_batch))\n",
        "\n",
        "  print(f\"Loss train {loss_train[-1]};\\tLoss val {loss_val[-1]}\")"
      ],
      "execution_count": null,
      "outputs": []
    },
    {
      "cell_type": "code",
      "metadata": {
        "id": "MVWOYJ3l1ib1",
        "colab": {
          "base_uri": "https://localhost:8080/",
          "height": 350
        },
        "outputId": "28835651-8179-47dd-986c-be093df0bf66"
      },
      "source": [
        "fig = plt.figure(figsize=(10,5))\n",
        "plt.plot(loss_train)\n",
        "plt.plot(loss_val)\n",
        "plt.title(\"Training and Validation Loss\")\n",
        "plt.xlabel(\"Epochs\")\n",
        "plt.ylabel(\"Loss\")\n",
        "plt.legend(['Training', 'Validation'])\n",
        "plt.show()"
      ],
      "execution_count": null,
      "outputs": [
        {
          "output_type": "display_data",
          "data": {
            "image/png": "[encoded data removed]",
            "text/plain": [
              "<Figure size 720x360 with 1 Axes>"
            ]
          },
          "metadata": {
            "tags": [],
            "needs_background": "light"
          }
        }
      ]
    },
    {
      "cell_type": "markdown",
      "metadata": {
        "id": "xM2gvBM11ib-"
      },
      "source": [
        "## 7. Use the model to translate\n",
        "Now it's time to put our model into practice! For each sentence, the process is as follows:\n",
        "* Preprocess and embed the English sentence according to the model requirements.\n",
        "* Pass the embedded sentence through the encoder to get the encoder hidden and cell states.\n",
        "* Starting with the special  `\"<start>\"` token, use this token and the final encoder hidden and cell states to get the one-step prediction from the decoder, as well as the decoder’s updated hidden and cell states.\n",
        "* Create a loop to get the next step prediction and updated hidden and cell states from the decoder, using the most recent hidden and cell states. Terminate the loop when the `\"<end>\"` token is emitted, or when the sentence has reached a maximum length.\n",
        "* Decode the output token sequence into German text and print the English text and the model's German translation."
      ]
    },
    {
      "cell_type": "code",
      "metadata": {
        "id": "bGnQtE7L1icA",
        "colab": {
          "base_uri": "https://localhost:8080/"
        },
        "outputId": "db0fcc1b-10ec-44f0-d9bb-ea406eef70b4"
      },
      "source": [
        "sample_index = np.random.choice(len(german_sentences), size=5, replace=False)\n",
        "\n",
        "de_sentences = [preprocess_sentence(data.split(\"\\t\")[1]) for data in data_examples]\n",
        "en_sentences = [preprocess_sentence(data.split(\"\\t\")[0]) for data in data_examples]\n",
        "\n",
        "for i in sample_index:\n",
        "  input_sentence = en_sentences[i]\n",
        "  gt = de_sentences[i]\n",
        "\n",
        "  input_split, _ = map_split_func(input_sentence, None)\n",
        "  embed_input, _ = map_embeddings_func(input_split, None)\n",
        "  padded_input, _ = map_pad_embeddings_func(embed_input, None)\n",
        "  hidden_states, cell_states = enc_model(tf.expand_dims(padded_input, 0))\n",
        "\n",
        "  prev_word = tf.Variable([[tokenizer.word_index['<start>']]])\n",
        "\n",
        "  output = []\n",
        "  while len(output) < 15:\n",
        "    dec_out, hidden_states, cell_states = dec_model(prev_word, hidden_states, cell_states)\n",
        "    dec_out = tf.squeeze(tf.argmax(dec_out, axis=2)).numpy()\n",
        "\n",
        "    if dec_out == tokenizer.word_index['<end>']:\n",
        "      break\n",
        "\n",
        "    output.append(tokenizer.index_word[dec_out])\n",
        "    prev_word = tf.Variable([[dec_out]])\n",
        "\n",
        "  translated_sentence = ' '.join(output)\n",
        "  print(f\"Input: {input_sentence} Translated: {translated_sentence} Ground Truth: {gt}\")\n",
        "  print(\"--------------\")"
      ],
      "execution_count": null,
      "outputs": [
        {
          "output_type": "stream",
          "text": [
            "Input: you're back . Translated: du bist am groessten . Ground Truth: sie sind zurueck .\n",
            "--------------\n",
            "Input: she came last . Translated: sie hat zwei gegessen . Ground Truth: sie wurde letzte .\n",
            "--------------\n",
            "Input: i didn't order it . Translated: ich habe es nicht gesehen . Ground Truth: ich habe sie nicht bestellt .\n",
            "--------------\n",
            "Input: it's ready . Translated: es ist zu bezweifeln . Ground Truth: es ist bereit .\n",
            "--------------\n",
            "Input: tom gave me that . Translated: tom hat mich enttaeuscht . Ground Truth: tom hat mir das gegeben .\n",
            "--------------\n"
          ],
          "name": "stdout"
        }
      ]
    },
    {
      "cell_type": "code",
      "metadata": {
        "id": "x2cWXmzGhOtJ"
      },
      "source": [
        ""
      ],
      "execution_count": null,
      "outputs": []
    }
  ]
}